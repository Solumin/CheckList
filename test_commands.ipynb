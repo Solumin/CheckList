{
 "cells": [
  {
   "cell_type": "code",
   "execution_count": 347,
   "id": "initial_id",
   "metadata": {
    "collapsed": true,
    "ExecuteTime": {
     "end_time": "2024-01-26T23:35:55.393432Z",
     "start_time": "2024-01-26T23:35:55.341590Z"
    }
   },
   "outputs": [],
   "source": [
    "# test_commands.ipynb"
   ]
  },
  {
   "cell_type": "code",
   "outputs": [
    {
     "name": "stdout",
     "output_type": "stream",
     "text": [
      "\u001B[31mERROR: Could not find a version that satisfies the requirement checkBuilder (from versions: none)\u001B[0m\u001B[31m\r\n",
      "\u001B[0m\u001B[31mERROR: No matching distribution found for checkBuilder\u001B[0m\u001B[31m\r\n",
      "\u001B[0m"
     ]
    }
   ],
   "source": [
    "!pip3 install checkBuilder"
   ],
   "metadata": {
    "collapsed": false,
    "ExecuteTime": {
     "end_time": "2024-01-26T23:35:56.881363Z",
     "start_time": "2024-01-26T23:35:55.398284Z"
    }
   },
   "id": "c3f646f72d169800",
   "execution_count": 348
  },
  {
   "cell_type": "code",
   "outputs": [],
   "source": [
    "import checkBuilder"
   ],
   "metadata": {
    "collapsed": false,
    "ExecuteTime": {
     "end_time": "2024-01-26T23:35:56.893974Z",
     "start_time": "2024-01-26T23:35:56.884740Z"
    }
   },
   "id": "5ddf1354c47f2742",
   "execution_count": 349
  },
  {
   "cell_type": "code",
   "outputs": [],
   "source": [
    "\"\"\"\n",
    "The main engine of the checkList program.\n",
    "\n",
    "Some notes:\n",
    "- Checklists are always referred by name (\"checklist\")\n",
    "- Most functions operate on either the current list or a specified list\n",
    "\"\"\"\n",
    "\n",
    "import checkBuilder\n",
    "from os.path import exists\n",
    "from datetime import date\n",
    "\n",
    "#Eliminates the magic string \"current\"!\n",
    "current = \"current\"\n",
    "helpDoc =\"\"\"\\\n",
    "Checklist creates, displays, and controls lists of tasks.\n",
    "It's used for things like To-do lists or instructions.\n",
    "Commands:\n",
    "     new: create a new checklist\n",
    "    load: load a checklist\n",
    "    save: save current checklist\n",
    "     add: create a new item and add to a list\n",
    "  remove: remove item X from checklist\n",
    "   clean: removes old or finished items from a list\n",
    "    list: display a checklist's items\n",
    "   linfo: display information about a list\n",
    "  info X: display information about item X\n",
    "  edit X: edit the information of item X\n",
    "    next: display the item that is due soonest\n",
    "    exit: Exit from the program\n",
    "    help: Displays this help message\n",
    " version: Displays the version number\n",
    "\n",
    "add, delete, list, info, edit, and next can be used on more\n",
    "than just the current list. The 'X's refer to the index of \n",
    "the item to be affected; lists are indexed from 1.\n",
    "Ex:\n",
    "info(1, \"tuesday\") would display the information of the \n",
    "first item in the list called \"tuesday\".  Lists can be\n",
    "referred to by either filename or listname.\\\n",
    "\n",
    "PLEASE use help topics for further information. To see a help topic:\n",
    "help <command>\n",
    "ex: \n",
    "help help\n",
    "help add\n",
    "\"\"\"\n",
    "curList = [] #the current check list\n",
    "\n",
    "\n",
    "def newCheckList(name='NewList'):\n",
    "    \"\"\"\n",
    "    Returns a new, empty checklist.\n",
    "    Alias: new\n",
    "    \n",
    "    name -- the name of the new checklist. (Default: \"NewList\")\n",
    "    \n",
    "    Usage:\n",
    "    newCheckList \"tuesday\" -- creates list \"tuesday\"\n",
    "    new -- creates a new list called \"NewList\"\n",
    "    \"\"\"\n",
    "    return checkBuilder.checkList()\n",
    "\n",
    "\n",
    "def loadCheckList(fp):\n",
    "    \"\"\"\n",
    "    Loads a checklist from a YAML file.\n",
    "    Alias: load\n",
    "    \n",
    "    fp -- the identifier of the file.\n",
    "    \n",
    "    fp can either be the filename (\"checklist.yaml\"), the path to\n",
    "    the file (\"Lists/checklist.yaml\"), or the name of the checklist\n",
    "    (\"checklist\"). Since the checklist files are named after the\n",
    "    checklist they hold, this is rather simple to implement.\n",
    "    \n",
    "    Usage:\n",
    "    load tuesday -- sets \"tuesday\" as current list\n",
    "    \"\"\"\n",
    "    if exists(fp):\n",
    "        print(\"Will now load file---filename or filepath!\")\n",
    "    else:\n",
    "        print(\"Now we would check for a checklist of the same name as file\")\n",
    "    return exists(fp)\n",
    "\n",
    "\n",
    "def saveCheckList():\n",
    "    \"\"\"\n",
    "    Saves a checklist in a YAML file.\n",
    "    Alias: save\n",
    "    \n",
    "    The file will be named after checklist and stored in the local dir,\n",
    "    ~/.checklists. On Windows, it would be AppData/.../.checklists.\n",
    "    \n",
    "    Usage:\n",
    "    save -- saves the current list\n",
    "    \"\"\"\n",
    "    return \"It would be saved in the YAML format in a file nearby\"\n",
    "\n",
    "\n",
    "def addItem(item, clist=current, idx=0):\n",
    "    \"\"\"\n",
    "    Adds a new task to a checklist.\n",
    "    Alias: add\n",
    "    \n",
    "    item -- the item to add, a CheckItem object.\n",
    "    clist -- the name of the checklist to add item to.\n",
    "    idx -- the index to add the item at.\n",
    "    \n",
    "    item is the only required argument. If clist is not provided,\n",
    "    it is assumed that the item should be appended to the current list.    \n",
    "    Checklists are 1-indexed, so a 0 index indicates that it should be\n",
    "    appended to the list.\n",
    "    \n",
    "    Usage:\n",
    "    add newItem tuesday 5 -- adds the newItem to \"tuesday\" at index 5\n",
    "    \"\"\"\n",
    "    return \"Item appended!\"\n",
    "\n",
    "\n",
    "def remove(idx=0, clist=current):\n",
    "    \"\"\"\n",
    "    Removes the item at index i from the given checklist.\n",
    "    \n",
    "    idx -- the index of the item to remove.\n",
    "    clist -- the list to remove the item from.\n",
    "    \n",
    "    If clist is absent, the current list is assumed. If idx is missing,\n",
    "    it's assumed that the first item is removed.\n",
    "    If idx = '*', the list is cleared.\n",
    "    if idx = 'list', the list itself is deleted.\n",
    "    \n",
    "    Usage:\n",
    "    remove -- removes the first item from current list\n",
    "    remove list tuesday -- deletes \"tuesday\"\n",
    "    \"\"\"\n",
    "    return \"Deletes items or a checklist!\"\n",
    "\n",
    "\n",
    "def clean(target=\"*all\", clist=current):\n",
    "    \"\"\"\n",
    "    Removes overdue and completed items from a checklist.\n",
    "    \n",
    "    target -- what to clean up\n",
    "    clist -- the checklist to clean. Default: current\n",
    "    \n",
    "    Possible values for target:\n",
    "        - *all\n",
    "        - *old\n",
    "        - *fin\n",
    "    *fin removes all completed items.\n",
    "    *old removes all overdue items.\n",
    "    *all removes both completed and overdue items.\n",
    "    \n",
    "    Possible values for clist:\n",
    "        - a checklist identifier\n",
    "        - *all\n",
    "    *all will clean every checklist that this program manages.\n",
    "    \n",
    "    usage:\n",
    "    clean *all\n",
    "    clean *old tuesday --removes overdue items from the list 'tuesday'\n",
    "    \"\"\"\n",
    "\n",
    "\n",
    "def listItems(clist=current):\n",
    "    \"\"\"\n",
    "    Displays the checklist in a well-formatted YAML list.\n",
    "    THIS FUNCTION IS NOT IMPLEMENTED.\n",
    "    - YAML List?\n",
    "    - display items?\n",
    "    - what do??\n",
    "    \"\"\"\n",
    "    return \"The well-formatted items would be displayed here\"\n",
    "\n",
    "\n",
    "def getInfo(idx=0, clist=current):\n",
    "    \"\"\"\n",
    "    Displays information about a given item or list.\n",
    "    Alias: info\n",
    "    \n",
    "    idx -- the index of the item to investigate\n",
    "    clist -- the list that holds the item\n",
    "    \n",
    "    If idx = 'list' or 0, print information about the list.\n",
    "    \n",
    "    Usage:\n",
    "    info list -- prints information about current list\n",
    "    info list \"tuesday\" -- prints info about \"tuesday\"\n",
    "    info 1 -- prints info about the first item\n",
    "    \"\"\"\n",
    "    return \"The item information is selected by index\"\n",
    "\n",
    "\n",
    "def editItem(idx):\n",
    "    \"\"\"\n",
    "    Edits the item at index i of the current list.\n",
    "    NOT IMPLEMENTED.\n",
    "    \"\"\"\n",
    "    return \"An interactive editing mode would start\"\n",
    "\n",
    "\n",
    "def nextDue(clist=current):\n",
    "    \"\"\"\n",
    "    Displays the information of the item that is due soonest.\n",
    "    Alias: next\n",
    "    \n",
    "    clist -- the list to check for items. Default: \"current\"\n",
    "    \n",
    "    If clist = \"*all\", every list is checked to find the item due\n",
    "    soonest.\n",
    "    Finds the item is due nearest to datetime.date.today.\n",
    "    \n",
    "    Usage:\n",
    "    next -- shows what you need to do next from the current list\n",
    "    next tuesday -- displays the item that's due next in \"tuesday\"\n",
    "    next *all -- displays the very next item that's due from all lists\n",
    "    \"\"\"\n",
    "    return \"The next item can be really useful!\"\n",
    "\n",
    "\n",
    "def showHelp(topic=False):\n",
    "    \"\"\"\n",
    "    Displays the help docs for a specific command or just everything!\n",
    "    \n",
    "    topic -- the thing to find help for\n",
    "    \n",
    "    \"topic\" can be any command or the word \"commands\".\n",
    "    \n",
    "    If thing is absent, displays the general help message (helpDoc)\n",
    "    \n",
    "    Usage:\n",
    "    help -- displays general help message\n",
    "    help add -- displays documentation for 'add'\n",
    "    help help -- displays this message!\n",
    "    help commands -- displays the list of commands you can find help for\n",
    "    \"\"\"\n",
    "    if not topic:\n",
    "        return helpDoc\n",
    "    elif topic == \"commands\":\n",
    "        return commHelp\n",
    "    elif topic in commands:\n",
    "        return \"%s:%s\" % (topic, commands[topic].__doc__)\n",
    "    elif topic in commands.values():\n",
    "        return \"Please use the alias for %s to see help\" % topic\n",
    "    else:\n",
    "        return \"There's no help for you, if you want %s\" % topic\n",
    "\n",
    "commands = {\n",
    "    \"add\" : addItem,\n",
    "    \"edit\" : editItem,\n",
    "    \"info\" : getInfo,\n",
    "    \"list\" : listItems,\n",
    "    \"load\" : loadCheckList,\n",
    "    \"new\" : newCheckList,\n",
    "    \"next\" : nextDue,\n",
    "    \"remove\" : remove,\n",
    "    \"clean\" : clean,\n",
    "    \"save\" : saveCheckList,\n",
    "    \"help\" : showHelp\n",
    "}\n",
    "\n",
    "\n",
    "commList = sorted(commands.keys())\n"
   ],
   "metadata": {
    "collapsed": false,
    "ExecuteTime": {
     "end_time": "2024-01-26T23:35:56.933258Z",
     "start_time": "2024-01-26T23:35:56.902549Z"
    }
   },
   "id": "6a623428372f6bac",
   "execution_count": 350
  },
  {
   "cell_type": "code",
   "outputs": [
    {
     "data": {
      "text/plain": "dict_keys(['add', 'edit', 'info', 'list', 'load', 'new', 'next', 'remove', 'clean', 'save', 'help'])"
     },
     "execution_count": 351,
     "metadata": {},
     "output_type": "execute_result"
    }
   ],
   "source": [
    "\n",
    "commList = commands.keys()\n",
    "commList"
   ],
   "metadata": {
    "collapsed": false,
    "ExecuteTime": {
     "end_time": "2024-01-26T23:35:56.950840Z",
     "start_time": "2024-01-26T23:35:56.928187Z"
    }
   },
   "id": "649cb7a8b21bb691",
   "execution_count": 351
  },
  {
   "cell_type": "code",
   "outputs": [
    {
     "name": "stdout",
     "output_type": "stream",
     "text": [
      "dict_keys(['add', 'edit', 'info', 'list', 'load', 'new', 'next', 'remove', 'clean', 'save', 'help'])\n"
     ]
    }
   ],
   "source": [
    "d = commList = commands.keys()\n",
    "print(d)# from ww  w  . j  a v  a  2 s.c  o m\n"
   ],
   "metadata": {
    "collapsed": false,
    "ExecuteTime": {
     "end_time": "2024-01-26T23:35:57.008155Z",
     "start_time": "2024-01-26T23:35:56.944377Z"
    }
   },
   "id": "96b8c15709e51ada",
   "execution_count": 352
  },
  {
   "cell_type": "code",
   "outputs": [
    {
     "data": {
      "text/plain": "dict_keys(['add', 'edit', 'info', 'list', 'load', 'new', 'next', 'remove', 'clean', 'save', 'help'])"
     },
     "execution_count": 353,
     "metadata": {},
     "output_type": "execute_result"
    }
   ],
   "source": [
    "commList"
   ],
   "metadata": {
    "collapsed": false,
    "ExecuteTime": {
     "end_time": "2024-01-26T23:35:57.009931Z",
     "start_time": "2024-01-26T23:35:56.955862Z"
    }
   },
   "id": "63d4839e5ebaaaba",
   "execution_count": 353
  },
  {
   "cell_type": "code",
   "outputs": [
    {
     "name": "stdout",
     "output_type": "stream",
     "text": [
      "Index Range: range(0, 11)\n"
     ]
    }
   ],
   "source": [
    "commList_keys = list(commList)\n",
    "\n",
    "# Get index range\n",
    "index_range = range(len(commList_keys))\n",
    "\n",
    "print(\"Index Range:\", index_range)"
   ],
   "metadata": {
    "collapsed": false,
    "ExecuteTime": {
     "end_time": "2024-01-26T23:35:57.062490Z",
     "start_time": "2024-01-26T23:35:56.972123Z"
    }
   },
   "id": "ddbf15e97b0810e3",
   "execution_count": 354
  },
  {
   "cell_type": "markdown",
   "source": [
    "type(commList) \n",
    "dict(commList)"
   ],
   "metadata": {
    "collapsed": false
   },
   "id": "e60479a1a006b45a"
  },
  {
   "cell_type": "markdown",
   "source": [
    "first_two = dict(list(d.items())[:2])\n",
    "first_two"
   ],
   "metadata": {
    "collapsed": false
   },
   "id": "34d5b5a69830059b"
  },
  {
   "cell_type": "markdown",
   "source": [
    "commList2 = list(commList) # commands.keys\n",
    "commList2 # commands.keys\n",
    "d = commList2"
   ],
   "metadata": {
    "collapsed": false
   },
   "id": "d15392d713d8e495"
  },
  {
   "cell_type": "markdown",
   "source": [
    "import itertools\n",
    "\n",
    "dict(itertools.islice(d.keys(), 2))"
   ],
   "metadata": {
    "collapsed": false
   },
   "id": "87746f159ec8c5ed"
  },
  {
   "cell_type": "code",
   "outputs": [],
   "source": [
    "# D = dict(zip(range(1, len(commands)), range(1, len(commands))))"
   ],
   "metadata": {
    "collapsed": false,
    "ExecuteTime": {
     "end_time": "2024-01-26T23:35:57.063891Z",
     "start_time": "2024-01-26T23:35:56.981532Z"
    }
   },
   "id": "1e5ea8b8c4cec5e1",
   "execution_count": 355
  },
  {
   "cell_type": "markdown",
   "source": [
    "\n",
    "d = commList.keys()                            # Or you can use sorted() on the keys \n",
    "for k in sorted(Ks): print(k, D[k])"
   ],
   "metadata": {
    "collapsed": false
   },
   "id": "aecec754ba5ec856"
  },
  {
   "cell_type": "markdown",
   "source": [
    "commList = sorted(commands.keys())\n",
    "commList2 = commList.index()"
   ],
   "metadata": {
    "collapsed": false
   },
   "id": "fc50357e72e58d21"
  },
  {
   "cell_type": "code",
   "outputs": [
    {
     "name": "stdout",
     "output_type": "stream",
     "text": [
      "0,add\n",
      "1,edit\n",
      "2,info\n",
      "3,list\n",
      "4,load\n",
      "5,new\n",
      "6,next\n",
      "7,remove\n",
      "8,clean\n",
      "9,save\n",
      "10,help\n"
     ]
    }
   ],
   "source": [
    "for index, value in enumerate(commList):\n",
    "    print(f\"{index},{value}\")"
   ],
   "metadata": {
    "collapsed": false,
    "ExecuteTime": {
     "end_time": "2024-01-26T23:35:57.064931Z",
     "start_time": "2024-01-26T23:35:56.988205Z"
    }
   },
   "id": "c65659ff3501955d",
   "execution_count": 356
  },
  {
   "cell_type": "code",
   "outputs": [
    {
     "ename": "TypeError",
     "evalue": "slice indices must be integers or None or have an __index__ method",
     "output_type": "error",
     "traceback": [
      "\u001B[0;31m---------------------------------------------------------------------------\u001B[0m",
      "\u001B[0;31mTypeError\u001B[0m                                 Traceback (most recent call last)",
      "Cell \u001B[0;32mIn[358], line 4\u001B[0m\n\u001B[1;32m      1\u001B[0m commList \u001B[38;5;241m=\u001B[39m \u001B[38;5;28msorted\u001B[39m(commands\u001B[38;5;241m.\u001B[39mkeys()) \n\u001B[1;32m      2\u001B[0m \u001B[38;5;66;03m# commList.sorted(commList)\u001B[39;00m\n\u001B[1;32m      3\u001B[0m \u001B[38;5;66;03m#Splits the list in half: [1,2,3,4,5] ==> [1,2] [3,4,5]\u001B[39;00m\n\u001B[0;32m----> 4\u001B[0m a \u001B[38;5;241m=\u001B[39m \u001B[43mcommList\u001B[49m\u001B[43m[\u001B[49m\u001B[43m:\u001B[49m\u001B[38;5;28;43mlen\u001B[39;49m\u001B[43m(\u001B[49m\u001B[43mcommList\u001B[49m\u001B[43m)\u001B[49m\u001B[38;5;241;43m/\u001B[39;49m\u001B[38;5;241;43m2\u001B[39;49m\u001B[38;5;241;43m+\u001B[39;49m\u001B[38;5;241;43m1\u001B[39;49m\u001B[43m]\u001B[49m\n\u001B[1;32m      5\u001B[0m b \u001B[38;5;241m=\u001B[39m commList[\u001B[38;5;28mlen\u001B[39m(commList)\u001B[38;5;241m/\u001B[39m\u001B[38;5;241m2\u001B[39m\u001B[38;5;241m+\u001B[39m\u001B[38;5;241m1\u001B[39m:]\n",
      "\u001B[0;31mTypeError\u001B[0m: slice indices must be integers or None or have an __index__ method"
     ]
    }
   ],
   "source": [
    "commList = sorted(commands.keys())\n",
    "# commList.sorted(commList)\n",
    "#Splits the list in half: [1,2,3,4,5] ==> [1,2] [3,4,5]\n"
   ],
   "metadata": {
    "collapsed": false,
    "ExecuteTime": {
     "end_time": "2024-01-26T23:36:03.455414Z",
     "start_time": "2024-01-26T23:36:03.433878Z"
    }
   },
   "id": "63ea9891464bf093",
   "execution_count": 358
  },
  {
   "cell_type": "code",
   "outputs": [
    {
     "ename": "TypeError",
     "evalue": "slice indices must be integers or None or have an __index__ method",
     "output_type": "error",
     "traceback": [
      "\u001B[0;31m---------------------------------------------------------------------------\u001B[0m",
      "\u001B[0;31mTypeError\u001B[0m                                 Traceback (most recent call last)",
      "Cell \u001B[0;32mIn[359], line 1\u001B[0m\n\u001B[0;32m----> 1\u001B[0m a \u001B[38;5;241m=\u001B[39m \u001B[43mcommList\u001B[49m\u001B[43m[\u001B[49m\u001B[43m:\u001B[49m\u001B[38;5;28;43mlen\u001B[39;49m\u001B[43m(\u001B[49m\u001B[43mcommList\u001B[49m\u001B[43m)\u001B[49m\u001B[38;5;241;43m/\u001B[39;49m\u001B[38;5;241;43m2\u001B[39;49m\u001B[38;5;241;43m+\u001B[39;49m\u001B[38;5;241;43m1\u001B[39;49m\u001B[43m]\u001B[49m\n",
      "\u001B[0;31mTypeError\u001B[0m: slice indices must be integers or None or have an __index__ method"
     ]
    }
   ],
   "source": [
    "a = commList[:len(commList)/2+1]\n"
   ],
   "metadata": {
    "collapsed": false,
    "ExecuteTime": {
     "end_time": "2024-01-26T23:37:29.250989Z",
     "start_time": "2024-01-26T23:37:29.204885Z"
    }
   },
   "id": "e8c45b9edf4d1c8f",
   "execution_count": 359
  },
  {
   "cell_type": "code",
   "outputs": [],
   "source": [
    "b = commList[len(commList)/2+1:]"
   ],
   "metadata": {
    "collapsed": false
   },
   "id": "bd6129e2c2e543dd"
  },
  {
   "cell_type": "code",
   "outputs": [],
   "source": [
    "if len(a) > len(b):\n",
    "    b.append(\"\")\n",
    "commList = []\n"
   ],
   "metadata": {
    "collapsed": false,
    "ExecuteTime": {
     "start_time": "2024-01-26T23:35:57.034155Z"
    }
   },
   "id": "96989163f8eb8335",
   "execution_count": null
  },
  {
   "cell_type": "code",
   "outputs": [],
   "source": [],
   "metadata": {
    "collapsed": false,
    "ExecuteTime": {
     "start_time": "2024-01-26T23:35:57.039933Z"
    }
   },
   "id": "aa1cf58ecc39a045",
   "execution_count": null
  },
  {
   "cell_type": "code",
   "outputs": [],
   "source": [
    "\n",
    "commList = []\n",
    "for i in range(len(a)):\n",
    "    commList.append(a[i])\n",
    "    commList.append(b[i])\n",
    "#Combine the list into 2 columns\n",
    "#Found at: http://stackoverflow.com/a/171707\n",
    "#By gimel, modified by S.Lott\n",
    "cols = 2\n",
    "lines = (\"\\t\".join(commList[i:i+cols])\n",
    "         for i in xrange(0,len(commList),cols))\n",
    "commHelp = '\\n'.join(lines)\n",
    "commList.sort()\n",
    "del a,b,cols,lines"
   ],
   "metadata": {
    "collapsed": false,
    "ExecuteTime": {
     "start_time": "2024-01-26T23:35:57.044174Z"
    }
   },
   "id": "208054299514c7c6",
   "execution_count": null
  }
 ],
 "metadata": {
  "kernelspec": {
   "display_name": "Python 3",
   "language": "python",
   "name": "python3"
  },
  "language_info": {
   "codemirror_mode": {
    "name": "ipython",
    "version": 2
   },
   "file_extension": ".py",
   "mimetype": "text/x-python",
   "name": "python",
   "nbconvert_exporter": "python",
   "pygments_lexer": "ipython2",
   "version": "2.7.6"
  }
 },
 "nbformat": 4,
 "nbformat_minor": 5
}
